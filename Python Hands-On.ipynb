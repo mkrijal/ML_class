{
 "cells": [
  {
   "cell_type": "code",
   "execution_count": 55,
   "metadata": {
    "collapsed": false
   },
   "outputs": [
    {
     "name": "stdout",
     "output_type": "stream",
     "text": [
      "Python:3.6.0 |Anaconda 4.3.0 (64-bit)| (default, Dec 23 2016, 11:57:41) [MSC v.1900 64 bit (AMD64)]\n",
      "scipy:0.18.1\n",
      "numpy:1.11.3\n",
      "matplotlib:2.0.0\n",
      "pandas:0.19.2\n",
      "sklearn:0.18.1\n"
     ]
    }
   ],
   "source": [
    "#Pythonversion\n",
    "import sys\n",
    "print('Python:{}'.format(sys.version))\n",
    "#scipy\n",
    "import scipy\n",
    "print('scipy:{}'.format(scipy.__version__))\n",
    "#numpy\n",
    "import numpy\n",
    "print('numpy:{}'.format(numpy.__version__))\n",
    "#matplotlib\n",
    "import matplotlib\n",
    "print('matplotlib:{}'.format(matplotlib.__version__))\n",
    "#pandas\n",
    "import pandas\n",
    "print('pandas:{}'.format(pandas.__version__))\n",
    "#scikit-learn\n",
    "import sklearn\n",
    "print('sklearn:{}'.format(sklearn.__version__))"
   ]
  },
  {
   "cell_type": "markdown",
   "metadata": {},
   "source": [
    "# Series"
   ]
  },
  {
   "cell_type": "code",
   "execution_count": 22,
   "metadata": {
    "collapsed": false
   },
   "outputs": [
    {
     "name": "stdout",
     "output_type": "stream",
     "text": [
      "0    4\n",
      "1    7\n",
      "2   -5\n",
      "3    3\n",
      "dtype: int64\n"
     ]
    }
   ],
   "source": [
    "#Series\n",
    "from pandas import Series\n",
    "obj = Series([4, 7, -5, 3])\n",
    "print(obj)"
   ]
  },
  {
   "cell_type": "code",
   "execution_count": 23,
   "metadata": {
    "collapsed": false
   },
   "outputs": [
    {
     "data": {
      "text/plain": [
       "array([ 4,  7, -5,  3], dtype=int64)"
      ]
     },
     "execution_count": 23,
     "metadata": {},
     "output_type": "execute_result"
    }
   ],
   "source": [
    "obj.values"
   ]
  },
  {
   "cell_type": "code",
   "execution_count": 24,
   "metadata": {
    "collapsed": false
   },
   "outputs": [
    {
     "data": {
      "text/plain": [
       "RangeIndex(start=0, stop=4, step=1)"
      ]
     },
     "execution_count": 24,
     "metadata": {},
     "output_type": "execute_result"
    }
   ],
   "source": [
    "obj.index"
   ]
  },
  {
   "cell_type": "code",
   "execution_count": 25,
   "metadata": {
    "collapsed": true
   },
   "outputs": [],
   "source": [
    "obj2 = Series([4, 7, -5, 3], index=['d', 'b', 'a', 'c'])"
   ]
  },
  {
   "cell_type": "code",
   "execution_count": 26,
   "metadata": {
    "collapsed": false
   },
   "outputs": [
    {
     "data": {
      "text/plain": [
       "d    4\n",
       "b    7\n",
       "a   -5\n",
       "c    3\n",
       "dtype: int64"
      ]
     },
     "execution_count": 26,
     "metadata": {},
     "output_type": "execute_result"
    }
   ],
   "source": [
    "obj2"
   ]
  },
  {
   "cell_type": "code",
   "execution_count": 27,
   "metadata": {
    "collapsed": false
   },
   "outputs": [
    {
     "data": {
      "text/plain": [
       "array([ 4,  7, -5,  3], dtype=int64)"
      ]
     },
     "execution_count": 27,
     "metadata": {},
     "output_type": "execute_result"
    }
   ],
   "source": [
    "obj2.values"
   ]
  },
  {
   "cell_type": "code",
   "execution_count": 28,
   "metadata": {
    "collapsed": false
   },
   "outputs": [
    {
     "data": {
      "text/plain": [
       "Index(['d', 'b', 'a', 'c'], dtype='object')"
      ]
     },
     "execution_count": 28,
     "metadata": {},
     "output_type": "execute_result"
    }
   ],
   "source": [
    "obj2.index"
   ]
  },
  {
   "cell_type": "markdown",
   "metadata": {},
   "source": [
    "# Dataframe"
   ]
  },
  {
   "cell_type": "code",
   "execution_count": 29,
   "metadata": {
    "collapsed": false
   },
   "outputs": [
    {
     "name": "stdout",
     "output_type": "stream",
     "text": [
      "   one  two  three\n",
      "a    1    2      3\n",
      "b    4    5      6\n"
     ]
    }
   ],
   "source": [
    "#dataframe\n",
    "import pandas as pd # data package\n",
    "import numpy\n",
    "myarray = numpy.array([[1, 2, 3], [4, 5, 6]])\n",
    "rownames= ['a', 'b']\n",
    "colnames= ['one', 'two', 'three']\n",
    "mydataframe = pandas.DataFrame(myarray,index=rownames, columns=colnames)\n",
    "print(mydataframe)"
   ]
  },
  {
   "cell_type": "markdown",
   "metadata": {},
   "source": [
    "# Lesson 3"
   ]
  },
  {
   "cell_type": "code",
   "execution_count": 58,
   "metadata": {
    "collapsed": true
   },
   "outputs": [],
   "source": [
    "#import libraries\n",
    "import pandas as pd\n",
    "import numpy as np\n",
    "from matplotlib import style\n",
    "%matplotlib inline\n",
    "import matplotlib.pyplot as plt # graphics package\n",
    "import seaborn as sns\n",
    "from IPython.display import display, HTML"
   ]
  },
  {
   "cell_type": "code",
   "execution_count": 34,
   "metadata": {
    "collapsed": false
   },
   "outputs": [
    {
     "data": {
      "text/html": [
       "<div>\n",
       "<table border=\"1\" class=\"dataframe\">\n",
       "  <thead>\n",
       "    <tr style=\"text-align: right;\">\n",
       "      <th></th>\n",
       "      <th>pelvic_incidence</th>\n",
       "      <th>pelvic_tilt</th>\n",
       "      <th>lumbar_lordosis_angle</th>\n",
       "      <th>sacral_slope</th>\n",
       "      <th>pelvic_radius</th>\n",
       "      <th>degree_spondylolisthesis</th>\n",
       "      <th>class</th>\n",
       "    </tr>\n",
       "  </thead>\n",
       "  <tbody>\n",
       "    <tr>\n",
       "      <th>0</th>\n",
       "      <td>63.027818</td>\n",
       "      <td>22.552586</td>\n",
       "      <td>39.609117</td>\n",
       "      <td>40.475232</td>\n",
       "      <td>98.672917</td>\n",
       "      <td>-0.254400</td>\n",
       "      <td>Hernia</td>\n",
       "    </tr>\n",
       "    <tr>\n",
       "      <th>1</th>\n",
       "      <td>39.056951</td>\n",
       "      <td>10.060991</td>\n",
       "      <td>25.015378</td>\n",
       "      <td>28.995960</td>\n",
       "      <td>114.405425</td>\n",
       "      <td>4.564259</td>\n",
       "      <td>Hernia</td>\n",
       "    </tr>\n",
       "    <tr>\n",
       "      <th>2</th>\n",
       "      <td>68.832021</td>\n",
       "      <td>22.218482</td>\n",
       "      <td>50.092194</td>\n",
       "      <td>46.613539</td>\n",
       "      <td>105.985135</td>\n",
       "      <td>-3.530317</td>\n",
       "      <td>Hernia</td>\n",
       "    </tr>\n",
       "  </tbody>\n",
       "</table>\n",
       "</div>"
      ],
      "text/plain": [
       "   pelvic_incidence  pelvic_tilt  lumbar_lordosis_angle  sacral_slope  \\\n",
       "0         63.027818    22.552586              39.609117     40.475232   \n",
       "1         39.056951    10.060991              25.015378     28.995960   \n",
       "2         68.832021    22.218482              50.092194     46.613539   \n",
       "\n",
       "   pelvic_radius  degree_spondylolisthesis   class  \n",
       "0      98.672917                 -0.254400  Hernia  \n",
       "1     114.405425                  4.564259  Hernia  \n",
       "2     105.985135                 -3.530317  Hernia  "
      ]
     },
     "execution_count": 34,
     "metadata": {},
     "output_type": "execute_result"
    }
   ],
   "source": [
    "#Lesson 3: Load Data From CSV\n",
    "data = pd.read_csv('C://Users/mkrijal/Desktop/ML_class/column_3C_weka.csv')\n",
    "data.head(3)"
   ]
  },
  {
   "cell_type": "code",
   "execution_count": 35,
   "metadata": {
    "collapsed": false
   },
   "outputs": [
    {
     "data": {
      "text/html": [
       "<div>\n",
       "<table border=\"1\" class=\"dataframe\">\n",
       "  <thead>\n",
       "    <tr style=\"text-align: right;\">\n",
       "      <th></th>\n",
       "      <th>pelvic_incidence</th>\n",
       "      <th>pelvic_tilt</th>\n",
       "      <th>lumbar_lordosis_angle</th>\n",
       "      <th>sacral_slope</th>\n",
       "      <th>pelvic_radius</th>\n",
       "      <th>degree_spondylolisthesis</th>\n",
       "      <th>class</th>\n",
       "    </tr>\n",
       "  </thead>\n",
       "  <tbody>\n",
       "    <tr>\n",
       "      <th>0</th>\n",
       "      <td>63.027818</td>\n",
       "      <td>22.552586</td>\n",
       "      <td>39.609117</td>\n",
       "      <td>40.475232</td>\n",
       "      <td>98.672917</td>\n",
       "      <td>-0.254400</td>\n",
       "      <td>Hernia</td>\n",
       "    </tr>\n",
       "    <tr>\n",
       "      <th>1</th>\n",
       "      <td>39.056951</td>\n",
       "      <td>10.060991</td>\n",
       "      <td>25.015378</td>\n",
       "      <td>28.995960</td>\n",
       "      <td>114.405425</td>\n",
       "      <td>4.564259</td>\n",
       "      <td>Hernia</td>\n",
       "    </tr>\n",
       "    <tr>\n",
       "      <th>2</th>\n",
       "      <td>68.832021</td>\n",
       "      <td>22.218482</td>\n",
       "      <td>50.092194</td>\n",
       "      <td>46.613539</td>\n",
       "      <td>105.985135</td>\n",
       "      <td>-3.530317</td>\n",
       "      <td>Hernia</td>\n",
       "    </tr>\n",
       "    <tr>\n",
       "      <th>3</th>\n",
       "      <td>69.297008</td>\n",
       "      <td>24.652878</td>\n",
       "      <td>44.311238</td>\n",
       "      <td>44.644130</td>\n",
       "      <td>101.868495</td>\n",
       "      <td>11.211523</td>\n",
       "      <td>Hernia</td>\n",
       "    </tr>\n",
       "    <tr>\n",
       "      <th>4</th>\n",
       "      <td>49.712859</td>\n",
       "      <td>9.652075</td>\n",
       "      <td>28.317406</td>\n",
       "      <td>40.060784</td>\n",
       "      <td>108.168725</td>\n",
       "      <td>7.918501</td>\n",
       "      <td>Hernia</td>\n",
       "    </tr>\n",
       "    <tr>\n",
       "      <th>5</th>\n",
       "      <td>40.250200</td>\n",
       "      <td>13.921907</td>\n",
       "      <td>25.124950</td>\n",
       "      <td>26.328293</td>\n",
       "      <td>130.327871</td>\n",
       "      <td>2.230652</td>\n",
       "      <td>Hernia</td>\n",
       "    </tr>\n",
       "    <tr>\n",
       "      <th>6</th>\n",
       "      <td>53.432928</td>\n",
       "      <td>15.864336</td>\n",
       "      <td>37.165934</td>\n",
       "      <td>37.568592</td>\n",
       "      <td>120.567523</td>\n",
       "      <td>5.988551</td>\n",
       "      <td>Hernia</td>\n",
       "    </tr>\n",
       "    <tr>\n",
       "      <th>7</th>\n",
       "      <td>45.366754</td>\n",
       "      <td>10.755611</td>\n",
       "      <td>29.038349</td>\n",
       "      <td>34.611142</td>\n",
       "      <td>117.270068</td>\n",
       "      <td>-10.675871</td>\n",
       "      <td>Hernia</td>\n",
       "    </tr>\n",
       "    <tr>\n",
       "      <th>8</th>\n",
       "      <td>43.790190</td>\n",
       "      <td>13.533753</td>\n",
       "      <td>42.690814</td>\n",
       "      <td>30.256437</td>\n",
       "      <td>125.002893</td>\n",
       "      <td>13.289018</td>\n",
       "      <td>Hernia</td>\n",
       "    </tr>\n",
       "    <tr>\n",
       "      <th>9</th>\n",
       "      <td>36.686353</td>\n",
       "      <td>5.010884</td>\n",
       "      <td>41.948751</td>\n",
       "      <td>31.675469</td>\n",
       "      <td>84.241415</td>\n",
       "      <td>0.664437</td>\n",
       "      <td>Hernia</td>\n",
       "    </tr>\n",
       "    <tr>\n",
       "      <th>10</th>\n",
       "      <td>49.706610</td>\n",
       "      <td>13.040974</td>\n",
       "      <td>31.334500</td>\n",
       "      <td>36.665635</td>\n",
       "      <td>108.648265</td>\n",
       "      <td>-7.825986</td>\n",
       "      <td>Hernia</td>\n",
       "    </tr>\n",
       "    <tr>\n",
       "      <th>11</th>\n",
       "      <td>31.232387</td>\n",
       "      <td>17.715819</td>\n",
       "      <td>15.500000</td>\n",
       "      <td>13.516568</td>\n",
       "      <td>120.055399</td>\n",
       "      <td>0.499751</td>\n",
       "      <td>Hernia</td>\n",
       "    </tr>\n",
       "    <tr>\n",
       "      <th>12</th>\n",
       "      <td>48.915551</td>\n",
       "      <td>19.964556</td>\n",
       "      <td>40.263794</td>\n",
       "      <td>28.950995</td>\n",
       "      <td>119.321358</td>\n",
       "      <td>8.028895</td>\n",
       "      <td>Hernia</td>\n",
       "    </tr>\n",
       "    <tr>\n",
       "      <th>13</th>\n",
       "      <td>53.572170</td>\n",
       "      <td>20.460828</td>\n",
       "      <td>33.100000</td>\n",
       "      <td>33.111342</td>\n",
       "      <td>110.966698</td>\n",
       "      <td>7.044803</td>\n",
       "      <td>Hernia</td>\n",
       "    </tr>\n",
       "    <tr>\n",
       "      <th>14</th>\n",
       "      <td>57.300227</td>\n",
       "      <td>24.188885</td>\n",
       "      <td>47.000000</td>\n",
       "      <td>33.111342</td>\n",
       "      <td>116.806587</td>\n",
       "      <td>5.766947</td>\n",
       "      <td>Hernia</td>\n",
       "    </tr>\n",
       "    <tr>\n",
       "      <th>15</th>\n",
       "      <td>44.318907</td>\n",
       "      <td>12.537992</td>\n",
       "      <td>36.098763</td>\n",
       "      <td>31.780915</td>\n",
       "      <td>124.115836</td>\n",
       "      <td>5.415825</td>\n",
       "      <td>Hernia</td>\n",
       "    </tr>\n",
       "    <tr>\n",
       "      <th>16</th>\n",
       "      <td>63.834982</td>\n",
       "      <td>20.362507</td>\n",
       "      <td>54.552434</td>\n",
       "      <td>43.472475</td>\n",
       "      <td>112.309492</td>\n",
       "      <td>-0.622527</td>\n",
       "      <td>Hernia</td>\n",
       "    </tr>\n",
       "    <tr>\n",
       "      <th>17</th>\n",
       "      <td>31.276012</td>\n",
       "      <td>3.144669</td>\n",
       "      <td>32.562996</td>\n",
       "      <td>28.131342</td>\n",
       "      <td>129.011418</td>\n",
       "      <td>3.623020</td>\n",
       "      <td>Hernia</td>\n",
       "    </tr>\n",
       "    <tr>\n",
       "      <th>18</th>\n",
       "      <td>38.697912</td>\n",
       "      <td>13.444749</td>\n",
       "      <td>31.000000</td>\n",
       "      <td>25.253163</td>\n",
       "      <td>123.159251</td>\n",
       "      <td>1.429186</td>\n",
       "      <td>Hernia</td>\n",
       "    </tr>\n",
       "    <tr>\n",
       "      <th>19</th>\n",
       "      <td>41.729963</td>\n",
       "      <td>12.254074</td>\n",
       "      <td>30.122586</td>\n",
       "      <td>29.475889</td>\n",
       "      <td>116.585706</td>\n",
       "      <td>-1.244402</td>\n",
       "      <td>Hernia</td>\n",
       "    </tr>\n",
       "    <tr>\n",
       "      <th>20</th>\n",
       "      <td>43.922840</td>\n",
       "      <td>14.177959</td>\n",
       "      <td>37.832547</td>\n",
       "      <td>29.744881</td>\n",
       "      <td>134.461016</td>\n",
       "      <td>6.451648</td>\n",
       "      <td>Hernia</td>\n",
       "    </tr>\n",
       "    <tr>\n",
       "      <th>21</th>\n",
       "      <td>54.919443</td>\n",
       "      <td>21.062332</td>\n",
       "      <td>42.200000</td>\n",
       "      <td>33.857110</td>\n",
       "      <td>125.212716</td>\n",
       "      <td>2.432561</td>\n",
       "      <td>Hernia</td>\n",
       "    </tr>\n",
       "    <tr>\n",
       "      <th>22</th>\n",
       "      <td>63.073611</td>\n",
       "      <td>24.413803</td>\n",
       "      <td>54.000000</td>\n",
       "      <td>38.659808</td>\n",
       "      <td>106.424329</td>\n",
       "      <td>15.779697</td>\n",
       "      <td>Hernia</td>\n",
       "    </tr>\n",
       "    <tr>\n",
       "      <th>23</th>\n",
       "      <td>45.540790</td>\n",
       "      <td>13.069598</td>\n",
       "      <td>30.298321</td>\n",
       "      <td>32.471192</td>\n",
       "      <td>117.980830</td>\n",
       "      <td>-4.987130</td>\n",
       "      <td>Hernia</td>\n",
       "    </tr>\n",
       "    <tr>\n",
       "      <th>24</th>\n",
       "      <td>36.125683</td>\n",
       "      <td>22.758753</td>\n",
       "      <td>29.000000</td>\n",
       "      <td>13.366931</td>\n",
       "      <td>115.577116</td>\n",
       "      <td>-3.237562</td>\n",
       "      <td>Hernia</td>\n",
       "    </tr>\n",
       "    <tr>\n",
       "      <th>25</th>\n",
       "      <td>54.124920</td>\n",
       "      <td>26.650489</td>\n",
       "      <td>35.329747</td>\n",
       "      <td>27.474432</td>\n",
       "      <td>121.447011</td>\n",
       "      <td>1.571205</td>\n",
       "      <td>Hernia</td>\n",
       "    </tr>\n",
       "    <tr>\n",
       "      <th>26</th>\n",
       "      <td>26.147921</td>\n",
       "      <td>10.759454</td>\n",
       "      <td>14.000000</td>\n",
       "      <td>15.388468</td>\n",
       "      <td>125.203296</td>\n",
       "      <td>-10.093108</td>\n",
       "      <td>Hernia</td>\n",
       "    </tr>\n",
       "    <tr>\n",
       "      <th>27</th>\n",
       "      <td>43.580964</td>\n",
       "      <td>16.508884</td>\n",
       "      <td>47.000000</td>\n",
       "      <td>27.072080</td>\n",
       "      <td>109.271634</td>\n",
       "      <td>8.992816</td>\n",
       "      <td>Hernia</td>\n",
       "    </tr>\n",
       "    <tr>\n",
       "      <th>28</th>\n",
       "      <td>44.551012</td>\n",
       "      <td>21.931147</td>\n",
       "      <td>26.785916</td>\n",
       "      <td>22.619865</td>\n",
       "      <td>111.072920</td>\n",
       "      <td>2.652321</td>\n",
       "      <td>Hernia</td>\n",
       "    </tr>\n",
       "    <tr>\n",
       "      <th>29</th>\n",
       "      <td>66.879211</td>\n",
       "      <td>24.891999</td>\n",
       "      <td>49.278597</td>\n",
       "      <td>41.987212</td>\n",
       "      <td>113.477018</td>\n",
       "      <td>-2.005892</td>\n",
       "      <td>Hernia</td>\n",
       "    </tr>\n",
       "    <tr>\n",
       "      <th>...</th>\n",
       "      <td>...</td>\n",
       "      <td>...</td>\n",
       "      <td>...</td>\n",
       "      <td>...</td>\n",
       "      <td>...</td>\n",
       "      <td>...</td>\n",
       "      <td>...</td>\n",
       "    </tr>\n",
       "    <tr>\n",
       "      <th>280</th>\n",
       "      <td>50.086153</td>\n",
       "      <td>13.430044</td>\n",
       "      <td>34.457541</td>\n",
       "      <td>36.656108</td>\n",
       "      <td>119.134622</td>\n",
       "      <td>3.089484</td>\n",
       "      <td>Normal</td>\n",
       "    </tr>\n",
       "    <tr>\n",
       "      <th>281</th>\n",
       "      <td>64.261507</td>\n",
       "      <td>14.497866</td>\n",
       "      <td>43.902504</td>\n",
       "      <td>49.763642</td>\n",
       "      <td>115.388268</td>\n",
       "      <td>5.951454</td>\n",
       "      <td>Normal</td>\n",
       "    </tr>\n",
       "    <tr>\n",
       "      <th>282</th>\n",
       "      <td>53.683380</td>\n",
       "      <td>13.447022</td>\n",
       "      <td>41.584297</td>\n",
       "      <td>40.236358</td>\n",
       "      <td>113.913703</td>\n",
       "      <td>2.737035</td>\n",
       "      <td>Normal</td>\n",
       "    </tr>\n",
       "    <tr>\n",
       "      <th>283</th>\n",
       "      <td>48.995958</td>\n",
       "      <td>13.113820</td>\n",
       "      <td>51.873520</td>\n",
       "      <td>35.882137</td>\n",
       "      <td>126.398188</td>\n",
       "      <td>0.535472</td>\n",
       "      <td>Normal</td>\n",
       "    </tr>\n",
       "    <tr>\n",
       "      <th>284</th>\n",
       "      <td>59.167612</td>\n",
       "      <td>14.562749</td>\n",
       "      <td>43.199158</td>\n",
       "      <td>44.604863</td>\n",
       "      <td>121.035642</td>\n",
       "      <td>2.830504</td>\n",
       "      <td>Normal</td>\n",
       "    </tr>\n",
       "    <tr>\n",
       "      <th>285</th>\n",
       "      <td>67.804694</td>\n",
       "      <td>16.550662</td>\n",
       "      <td>43.256802</td>\n",
       "      <td>51.254033</td>\n",
       "      <td>119.685645</td>\n",
       "      <td>4.867540</td>\n",
       "      <td>Normal</td>\n",
       "    </tr>\n",
       "    <tr>\n",
       "      <th>286</th>\n",
       "      <td>61.734875</td>\n",
       "      <td>17.114312</td>\n",
       "      <td>46.900000</td>\n",
       "      <td>44.620563</td>\n",
       "      <td>120.920200</td>\n",
       "      <td>3.087726</td>\n",
       "      <td>Normal</td>\n",
       "    </tr>\n",
       "    <tr>\n",
       "      <th>287</th>\n",
       "      <td>33.041688</td>\n",
       "      <td>-0.324678</td>\n",
       "      <td>19.071075</td>\n",
       "      <td>33.366366</td>\n",
       "      <td>120.388611</td>\n",
       "      <td>9.354365</td>\n",
       "      <td>Normal</td>\n",
       "    </tr>\n",
       "    <tr>\n",
       "      <th>288</th>\n",
       "      <td>74.565015</td>\n",
       "      <td>15.724320</td>\n",
       "      <td>58.618582</td>\n",
       "      <td>58.840695</td>\n",
       "      <td>105.417304</td>\n",
       "      <td>0.599247</td>\n",
       "      <td>Normal</td>\n",
       "    </tr>\n",
       "    <tr>\n",
       "      <th>289</th>\n",
       "      <td>44.430701</td>\n",
       "      <td>14.174264</td>\n",
       "      <td>32.243495</td>\n",
       "      <td>30.256437</td>\n",
       "      <td>131.717613</td>\n",
       "      <td>-3.604255</td>\n",
       "      <td>Normal</td>\n",
       "    </tr>\n",
       "    <tr>\n",
       "      <th>290</th>\n",
       "      <td>36.422485</td>\n",
       "      <td>13.879424</td>\n",
       "      <td>20.242562</td>\n",
       "      <td>22.543061</td>\n",
       "      <td>126.076861</td>\n",
       "      <td>0.179717</td>\n",
       "      <td>Normal</td>\n",
       "    </tr>\n",
       "    <tr>\n",
       "      <th>291</th>\n",
       "      <td>51.079833</td>\n",
       "      <td>14.209935</td>\n",
       "      <td>35.951229</td>\n",
       "      <td>36.869898</td>\n",
       "      <td>115.803711</td>\n",
       "      <td>6.905090</td>\n",
       "      <td>Normal</td>\n",
       "    </tr>\n",
       "    <tr>\n",
       "      <th>292</th>\n",
       "      <td>34.756738</td>\n",
       "      <td>2.631740</td>\n",
       "      <td>29.504381</td>\n",
       "      <td>32.124998</td>\n",
       "      <td>127.139850</td>\n",
       "      <td>-0.460894</td>\n",
       "      <td>Normal</td>\n",
       "    </tr>\n",
       "    <tr>\n",
       "      <th>293</th>\n",
       "      <td>48.902904</td>\n",
       "      <td>5.587589</td>\n",
       "      <td>55.500000</td>\n",
       "      <td>43.315316</td>\n",
       "      <td>137.108289</td>\n",
       "      <td>19.854759</td>\n",
       "      <td>Normal</td>\n",
       "    </tr>\n",
       "    <tr>\n",
       "      <th>294</th>\n",
       "      <td>46.236399</td>\n",
       "      <td>10.062770</td>\n",
       "      <td>37.000000</td>\n",
       "      <td>36.173629</td>\n",
       "      <td>128.063620</td>\n",
       "      <td>-5.100053</td>\n",
       "      <td>Normal</td>\n",
       "    </tr>\n",
       "    <tr>\n",
       "      <th>295</th>\n",
       "      <td>46.426366</td>\n",
       "      <td>6.620795</td>\n",
       "      <td>48.100000</td>\n",
       "      <td>39.805571</td>\n",
       "      <td>130.350096</td>\n",
       "      <td>2.449382</td>\n",
       "      <td>Normal</td>\n",
       "    </tr>\n",
       "    <tr>\n",
       "      <th>296</th>\n",
       "      <td>39.656902</td>\n",
       "      <td>16.208839</td>\n",
       "      <td>36.674857</td>\n",
       "      <td>23.448063</td>\n",
       "      <td>131.922009</td>\n",
       "      <td>-4.968980</td>\n",
       "      <td>Normal</td>\n",
       "    </tr>\n",
       "    <tr>\n",
       "      <th>297</th>\n",
       "      <td>45.575482</td>\n",
       "      <td>18.759135</td>\n",
       "      <td>33.774143</td>\n",
       "      <td>26.816347</td>\n",
       "      <td>116.797007</td>\n",
       "      <td>3.131910</td>\n",
       "      <td>Normal</td>\n",
       "    </tr>\n",
       "    <tr>\n",
       "      <th>298</th>\n",
       "      <td>66.507179</td>\n",
       "      <td>20.897672</td>\n",
       "      <td>31.727471</td>\n",
       "      <td>45.609507</td>\n",
       "      <td>128.902905</td>\n",
       "      <td>1.517203</td>\n",
       "      <td>Normal</td>\n",
       "    </tr>\n",
       "    <tr>\n",
       "      <th>299</th>\n",
       "      <td>82.905351</td>\n",
       "      <td>29.894119</td>\n",
       "      <td>58.250542</td>\n",
       "      <td>53.011232</td>\n",
       "      <td>110.708958</td>\n",
       "      <td>6.079338</td>\n",
       "      <td>Normal</td>\n",
       "    </tr>\n",
       "    <tr>\n",
       "      <th>300</th>\n",
       "      <td>50.676677</td>\n",
       "      <td>6.461501</td>\n",
       "      <td>35.000000</td>\n",
       "      <td>44.215175</td>\n",
       "      <td>116.587970</td>\n",
       "      <td>-0.214711</td>\n",
       "      <td>Normal</td>\n",
       "    </tr>\n",
       "    <tr>\n",
       "      <th>301</th>\n",
       "      <td>89.014875</td>\n",
       "      <td>26.075981</td>\n",
       "      <td>69.021259</td>\n",
       "      <td>62.938894</td>\n",
       "      <td>111.481075</td>\n",
       "      <td>6.061508</td>\n",
       "      <td>Normal</td>\n",
       "    </tr>\n",
       "    <tr>\n",
       "      <th>302</th>\n",
       "      <td>54.600316</td>\n",
       "      <td>21.488974</td>\n",
       "      <td>29.360216</td>\n",
       "      <td>33.111342</td>\n",
       "      <td>118.343321</td>\n",
       "      <td>-1.471067</td>\n",
       "      <td>Normal</td>\n",
       "    </tr>\n",
       "    <tr>\n",
       "      <th>303</th>\n",
       "      <td>34.382299</td>\n",
       "      <td>2.062683</td>\n",
       "      <td>32.390820</td>\n",
       "      <td>32.319617</td>\n",
       "      <td>128.300199</td>\n",
       "      <td>-3.365516</td>\n",
       "      <td>Normal</td>\n",
       "    </tr>\n",
       "    <tr>\n",
       "      <th>304</th>\n",
       "      <td>45.075450</td>\n",
       "      <td>12.306951</td>\n",
       "      <td>44.583177</td>\n",
       "      <td>32.768499</td>\n",
       "      <td>147.894637</td>\n",
       "      <td>-8.941709</td>\n",
       "      <td>Normal</td>\n",
       "    </tr>\n",
       "    <tr>\n",
       "      <th>305</th>\n",
       "      <td>47.903565</td>\n",
       "      <td>13.616688</td>\n",
       "      <td>36.000000</td>\n",
       "      <td>34.286877</td>\n",
       "      <td>117.449062</td>\n",
       "      <td>-4.245395</td>\n",
       "      <td>Normal</td>\n",
       "    </tr>\n",
       "    <tr>\n",
       "      <th>306</th>\n",
       "      <td>53.936748</td>\n",
       "      <td>20.721496</td>\n",
       "      <td>29.220534</td>\n",
       "      <td>33.215251</td>\n",
       "      <td>114.365845</td>\n",
       "      <td>-0.421010</td>\n",
       "      <td>Normal</td>\n",
       "    </tr>\n",
       "    <tr>\n",
       "      <th>307</th>\n",
       "      <td>61.446597</td>\n",
       "      <td>22.694968</td>\n",
       "      <td>46.170347</td>\n",
       "      <td>38.751628</td>\n",
       "      <td>125.670725</td>\n",
       "      <td>-2.707880</td>\n",
       "      <td>Normal</td>\n",
       "    </tr>\n",
       "    <tr>\n",
       "      <th>308</th>\n",
       "      <td>45.252792</td>\n",
       "      <td>8.693157</td>\n",
       "      <td>41.583126</td>\n",
       "      <td>36.559635</td>\n",
       "      <td>118.545842</td>\n",
       "      <td>0.214750</td>\n",
       "      <td>Normal</td>\n",
       "    </tr>\n",
       "    <tr>\n",
       "      <th>309</th>\n",
       "      <td>33.841641</td>\n",
       "      <td>5.073991</td>\n",
       "      <td>36.641233</td>\n",
       "      <td>28.767649</td>\n",
       "      <td>123.945244</td>\n",
       "      <td>-0.199249</td>\n",
       "      <td>Normal</td>\n",
       "    </tr>\n",
       "  </tbody>\n",
       "</table>\n",
       "<p>310 rows × 7 columns</p>\n",
       "</div>"
      ],
      "text/plain": [
       "     pelvic_incidence  pelvic_tilt  lumbar_lordosis_angle  sacral_slope  \\\n",
       "0           63.027818    22.552586              39.609117     40.475232   \n",
       "1           39.056951    10.060991              25.015378     28.995960   \n",
       "2           68.832021    22.218482              50.092194     46.613539   \n",
       "3           69.297008    24.652878              44.311238     44.644130   \n",
       "4           49.712859     9.652075              28.317406     40.060784   \n",
       "5           40.250200    13.921907              25.124950     26.328293   \n",
       "6           53.432928    15.864336              37.165934     37.568592   \n",
       "7           45.366754    10.755611              29.038349     34.611142   \n",
       "8           43.790190    13.533753              42.690814     30.256437   \n",
       "9           36.686353     5.010884              41.948751     31.675469   \n",
       "10          49.706610    13.040974              31.334500     36.665635   \n",
       "11          31.232387    17.715819              15.500000     13.516568   \n",
       "12          48.915551    19.964556              40.263794     28.950995   \n",
       "13          53.572170    20.460828              33.100000     33.111342   \n",
       "14          57.300227    24.188885              47.000000     33.111342   \n",
       "15          44.318907    12.537992              36.098763     31.780915   \n",
       "16          63.834982    20.362507              54.552434     43.472475   \n",
       "17          31.276012     3.144669              32.562996     28.131342   \n",
       "18          38.697912    13.444749              31.000000     25.253163   \n",
       "19          41.729963    12.254074              30.122586     29.475889   \n",
       "20          43.922840    14.177959              37.832547     29.744881   \n",
       "21          54.919443    21.062332              42.200000     33.857110   \n",
       "22          63.073611    24.413803              54.000000     38.659808   \n",
       "23          45.540790    13.069598              30.298321     32.471192   \n",
       "24          36.125683    22.758753              29.000000     13.366931   \n",
       "25          54.124920    26.650489              35.329747     27.474432   \n",
       "26          26.147921    10.759454              14.000000     15.388468   \n",
       "27          43.580964    16.508884              47.000000     27.072080   \n",
       "28          44.551012    21.931147              26.785916     22.619865   \n",
       "29          66.879211    24.891999              49.278597     41.987212   \n",
       "..                ...          ...                    ...           ...   \n",
       "280         50.086153    13.430044              34.457541     36.656108   \n",
       "281         64.261507    14.497866              43.902504     49.763642   \n",
       "282         53.683380    13.447022              41.584297     40.236358   \n",
       "283         48.995958    13.113820              51.873520     35.882137   \n",
       "284         59.167612    14.562749              43.199158     44.604863   \n",
       "285         67.804694    16.550662              43.256802     51.254033   \n",
       "286         61.734875    17.114312              46.900000     44.620563   \n",
       "287         33.041688    -0.324678              19.071075     33.366366   \n",
       "288         74.565015    15.724320              58.618582     58.840695   \n",
       "289         44.430701    14.174264              32.243495     30.256437   \n",
       "290         36.422485    13.879424              20.242562     22.543061   \n",
       "291         51.079833    14.209935              35.951229     36.869898   \n",
       "292         34.756738     2.631740              29.504381     32.124998   \n",
       "293         48.902904     5.587589              55.500000     43.315316   \n",
       "294         46.236399    10.062770              37.000000     36.173629   \n",
       "295         46.426366     6.620795              48.100000     39.805571   \n",
       "296         39.656902    16.208839              36.674857     23.448063   \n",
       "297         45.575482    18.759135              33.774143     26.816347   \n",
       "298         66.507179    20.897672              31.727471     45.609507   \n",
       "299         82.905351    29.894119              58.250542     53.011232   \n",
       "300         50.676677     6.461501              35.000000     44.215175   \n",
       "301         89.014875    26.075981              69.021259     62.938894   \n",
       "302         54.600316    21.488974              29.360216     33.111342   \n",
       "303         34.382299     2.062683              32.390820     32.319617   \n",
       "304         45.075450    12.306951              44.583177     32.768499   \n",
       "305         47.903565    13.616688              36.000000     34.286877   \n",
       "306         53.936748    20.721496              29.220534     33.215251   \n",
       "307         61.446597    22.694968              46.170347     38.751628   \n",
       "308         45.252792     8.693157              41.583126     36.559635   \n",
       "309         33.841641     5.073991              36.641233     28.767649   \n",
       "\n",
       "     pelvic_radius  degree_spondylolisthesis   class  \n",
       "0        98.672917                 -0.254400  Hernia  \n",
       "1       114.405425                  4.564259  Hernia  \n",
       "2       105.985135                 -3.530317  Hernia  \n",
       "3       101.868495                 11.211523  Hernia  \n",
       "4       108.168725                  7.918501  Hernia  \n",
       "5       130.327871                  2.230652  Hernia  \n",
       "6       120.567523                  5.988551  Hernia  \n",
       "7       117.270068                -10.675871  Hernia  \n",
       "8       125.002893                 13.289018  Hernia  \n",
       "9        84.241415                  0.664437  Hernia  \n",
       "10      108.648265                 -7.825986  Hernia  \n",
       "11      120.055399                  0.499751  Hernia  \n",
       "12      119.321358                  8.028895  Hernia  \n",
       "13      110.966698                  7.044803  Hernia  \n",
       "14      116.806587                  5.766947  Hernia  \n",
       "15      124.115836                  5.415825  Hernia  \n",
       "16      112.309492                 -0.622527  Hernia  \n",
       "17      129.011418                  3.623020  Hernia  \n",
       "18      123.159251                  1.429186  Hernia  \n",
       "19      116.585706                 -1.244402  Hernia  \n",
       "20      134.461016                  6.451648  Hernia  \n",
       "21      125.212716                  2.432561  Hernia  \n",
       "22      106.424329                 15.779697  Hernia  \n",
       "23      117.980830                 -4.987130  Hernia  \n",
       "24      115.577116                 -3.237562  Hernia  \n",
       "25      121.447011                  1.571205  Hernia  \n",
       "26      125.203296                -10.093108  Hernia  \n",
       "27      109.271634                  8.992816  Hernia  \n",
       "28      111.072920                  2.652321  Hernia  \n",
       "29      113.477018                 -2.005892  Hernia  \n",
       "..             ...                       ...     ...  \n",
       "280     119.134622                  3.089484  Normal  \n",
       "281     115.388268                  5.951454  Normal  \n",
       "282     113.913703                  2.737035  Normal  \n",
       "283     126.398188                  0.535472  Normal  \n",
       "284     121.035642                  2.830504  Normal  \n",
       "285     119.685645                  4.867540  Normal  \n",
       "286     120.920200                  3.087726  Normal  \n",
       "287     120.388611                  9.354365  Normal  \n",
       "288     105.417304                  0.599247  Normal  \n",
       "289     131.717613                 -3.604255  Normal  \n",
       "290     126.076861                  0.179717  Normal  \n",
       "291     115.803711                  6.905090  Normal  \n",
       "292     127.139850                 -0.460894  Normal  \n",
       "293     137.108289                 19.854759  Normal  \n",
       "294     128.063620                 -5.100053  Normal  \n",
       "295     130.350096                  2.449382  Normal  \n",
       "296     131.922009                 -4.968980  Normal  \n",
       "297     116.797007                  3.131910  Normal  \n",
       "298     128.902905                  1.517203  Normal  \n",
       "299     110.708958                  6.079338  Normal  \n",
       "300     116.587970                 -0.214711  Normal  \n",
       "301     111.481075                  6.061508  Normal  \n",
       "302     118.343321                 -1.471067  Normal  \n",
       "303     128.300199                 -3.365516  Normal  \n",
       "304     147.894637                 -8.941709  Normal  \n",
       "305     117.449062                 -4.245395  Normal  \n",
       "306     114.365845                 -0.421010  Normal  \n",
       "307     125.670725                 -2.707880  Normal  \n",
       "308     118.545842                  0.214750  Normal  \n",
       "309     123.945244                 -0.199249  Normal  \n",
       "\n",
       "[310 rows x 7 columns]"
      ]
     },
     "execution_count": 35,
     "metadata": {},
     "output_type": "execute_result"
    }
   ],
   "source": [
    "data"
   ]
  },
  {
   "cell_type": "markdown",
   "metadata": {},
   "source": [
    "# Lesson 4: Understand Data with Descriptive Statistics"
   ]
  },
  {
   "cell_type": "code",
   "execution_count": 36,
   "metadata": {
    "collapsed": false
   },
   "outputs": [
    {
     "name": "stdout",
     "output_type": "stream",
     "text": [
      "<bound method NDFrame.head of      pelvic_incidence  pelvic_tilt  lumbar_lordosis_angle  sacral_slope  \\\n",
      "0           63.027818    22.552586              39.609117     40.475232   \n",
      "1           39.056951    10.060991              25.015378     28.995960   \n",
      "2           68.832021    22.218482              50.092194     46.613539   \n",
      "3           69.297008    24.652878              44.311238     44.644130   \n",
      "4           49.712859     9.652075              28.317406     40.060784   \n",
      "5           40.250200    13.921907              25.124950     26.328293   \n",
      "6           53.432928    15.864336              37.165934     37.568592   \n",
      "7           45.366754    10.755611              29.038349     34.611142   \n",
      "8           43.790190    13.533753              42.690814     30.256437   \n",
      "9           36.686353     5.010884              41.948751     31.675469   \n",
      "10          49.706610    13.040974              31.334500     36.665635   \n",
      "11          31.232387    17.715819              15.500000     13.516568   \n",
      "12          48.915551    19.964556              40.263794     28.950995   \n",
      "13          53.572170    20.460828              33.100000     33.111342   \n",
      "14          57.300227    24.188885              47.000000     33.111342   \n",
      "15          44.318907    12.537992              36.098763     31.780915   \n",
      "16          63.834982    20.362507              54.552434     43.472475   \n",
      "17          31.276012     3.144669              32.562996     28.131342   \n",
      "18          38.697912    13.444749              31.000000     25.253163   \n",
      "19          41.729963    12.254074              30.122586     29.475889   \n",
      "20          43.922840    14.177959              37.832547     29.744881   \n",
      "21          54.919443    21.062332              42.200000     33.857110   \n",
      "22          63.073611    24.413803              54.000000     38.659808   \n",
      "23          45.540790    13.069598              30.298321     32.471192   \n",
      "24          36.125683    22.758753              29.000000     13.366931   \n",
      "25          54.124920    26.650489              35.329747     27.474432   \n",
      "26          26.147921    10.759454              14.000000     15.388468   \n",
      "27          43.580964    16.508884              47.000000     27.072080   \n",
      "28          44.551012    21.931147              26.785916     22.619865   \n",
      "29          66.879211    24.891999              49.278597     41.987212   \n",
      "..                ...          ...                    ...           ...   \n",
      "280         50.086153    13.430044              34.457541     36.656108   \n",
      "281         64.261507    14.497866              43.902504     49.763642   \n",
      "282         53.683380    13.447022              41.584297     40.236358   \n",
      "283         48.995958    13.113820              51.873520     35.882137   \n",
      "284         59.167612    14.562749              43.199158     44.604863   \n",
      "285         67.804694    16.550662              43.256802     51.254033   \n",
      "286         61.734875    17.114312              46.900000     44.620563   \n",
      "287         33.041688    -0.324678              19.071075     33.366366   \n",
      "288         74.565015    15.724320              58.618582     58.840695   \n",
      "289         44.430701    14.174264              32.243495     30.256437   \n",
      "290         36.422485    13.879424              20.242562     22.543061   \n",
      "291         51.079833    14.209935              35.951229     36.869898   \n",
      "292         34.756738     2.631740              29.504381     32.124998   \n",
      "293         48.902904     5.587589              55.500000     43.315316   \n",
      "294         46.236399    10.062770              37.000000     36.173629   \n",
      "295         46.426366     6.620795              48.100000     39.805571   \n",
      "296         39.656902    16.208839              36.674857     23.448063   \n",
      "297         45.575482    18.759135              33.774143     26.816347   \n",
      "298         66.507179    20.897672              31.727471     45.609507   \n",
      "299         82.905351    29.894119              58.250542     53.011232   \n",
      "300         50.676677     6.461501              35.000000     44.215175   \n",
      "301         89.014875    26.075981              69.021259     62.938894   \n",
      "302         54.600316    21.488974              29.360216     33.111342   \n",
      "303         34.382299     2.062683              32.390820     32.319617   \n",
      "304         45.075450    12.306951              44.583177     32.768499   \n",
      "305         47.903565    13.616688              36.000000     34.286877   \n",
      "306         53.936748    20.721496              29.220534     33.215251   \n",
      "307         61.446597    22.694968              46.170347     38.751628   \n",
      "308         45.252792     8.693157              41.583126     36.559635   \n",
      "309         33.841641     5.073991              36.641233     28.767649   \n",
      "\n",
      "     pelvic_radius  degree_spondylolisthesis   class  \n",
      "0        98.672917                 -0.254400  Hernia  \n",
      "1       114.405425                  4.564259  Hernia  \n",
      "2       105.985135                 -3.530317  Hernia  \n",
      "3       101.868495                 11.211523  Hernia  \n",
      "4       108.168725                  7.918501  Hernia  \n",
      "5       130.327871                  2.230652  Hernia  \n",
      "6       120.567523                  5.988551  Hernia  \n",
      "7       117.270068                -10.675871  Hernia  \n",
      "8       125.002893                 13.289018  Hernia  \n",
      "9        84.241415                  0.664437  Hernia  \n",
      "10      108.648265                 -7.825986  Hernia  \n",
      "11      120.055399                  0.499751  Hernia  \n",
      "12      119.321358                  8.028895  Hernia  \n",
      "13      110.966698                  7.044803  Hernia  \n",
      "14      116.806587                  5.766947  Hernia  \n",
      "15      124.115836                  5.415825  Hernia  \n",
      "16      112.309492                 -0.622527  Hernia  \n",
      "17      129.011418                  3.623020  Hernia  \n",
      "18      123.159251                  1.429186  Hernia  \n",
      "19      116.585706                 -1.244402  Hernia  \n",
      "20      134.461016                  6.451648  Hernia  \n",
      "21      125.212716                  2.432561  Hernia  \n",
      "22      106.424329                 15.779697  Hernia  \n",
      "23      117.980830                 -4.987130  Hernia  \n",
      "24      115.577116                 -3.237562  Hernia  \n",
      "25      121.447011                  1.571205  Hernia  \n",
      "26      125.203296                -10.093108  Hernia  \n",
      "27      109.271634                  8.992816  Hernia  \n",
      "28      111.072920                  2.652321  Hernia  \n",
      "29      113.477018                 -2.005892  Hernia  \n",
      "..             ...                       ...     ...  \n",
      "280     119.134622                  3.089484  Normal  \n",
      "281     115.388268                  5.951454  Normal  \n",
      "282     113.913703                  2.737035  Normal  \n",
      "283     126.398188                  0.535472  Normal  \n",
      "284     121.035642                  2.830504  Normal  \n",
      "285     119.685645                  4.867540  Normal  \n",
      "286     120.920200                  3.087726  Normal  \n",
      "287     120.388611                  9.354365  Normal  \n",
      "288     105.417304                  0.599247  Normal  \n",
      "289     131.717613                 -3.604255  Normal  \n",
      "290     126.076861                  0.179717  Normal  \n",
      "291     115.803711                  6.905090  Normal  \n",
      "292     127.139850                 -0.460894  Normal  \n",
      "293     137.108289                 19.854759  Normal  \n",
      "294     128.063620                 -5.100053  Normal  \n",
      "295     130.350096                  2.449382  Normal  \n",
      "296     131.922009                 -4.968980  Normal  \n",
      "297     116.797007                  3.131910  Normal  \n",
      "298     128.902905                  1.517203  Normal  \n",
      "299     110.708958                  6.079338  Normal  \n",
      "300     116.587970                 -0.214711  Normal  \n",
      "301     111.481075                  6.061508  Normal  \n",
      "302     118.343321                 -1.471067  Normal  \n",
      "303     128.300199                 -3.365516  Normal  \n",
      "304     147.894637                 -8.941709  Normal  \n",
      "305     117.449062                 -4.245395  Normal  \n",
      "306     114.365845                 -0.421010  Normal  \n",
      "307     125.670725                 -2.707880  Normal  \n",
      "308     118.545842                  0.214750  Normal  \n",
      "309     123.945244                 -0.199249  Normal  \n",
      "\n",
      "[310 rows x 7 columns]>\n"
     ]
    }
   ],
   "source": [
    "print (data.head)"
   ]
  },
  {
   "cell_type": "code",
   "execution_count": 37,
   "metadata": {
    "collapsed": false
   },
   "outputs": [
    {
     "name": "stdout",
     "output_type": "stream",
     "text": [
      "(310, 7)\n"
     ]
    }
   ],
   "source": [
    "print(data.shape)"
   ]
  },
  {
   "cell_type": "code",
   "execution_count": 38,
   "metadata": {
    "collapsed": false
   },
   "outputs": [
    {
     "name": "stdout",
     "output_type": "stream",
     "text": [
      "<bound method NDFrame.describe of      pelvic_incidence  pelvic_tilt  lumbar_lordosis_angle  sacral_slope  \\\n",
      "0           63.027818    22.552586              39.609117     40.475232   \n",
      "1           39.056951    10.060991              25.015378     28.995960   \n",
      "2           68.832021    22.218482              50.092194     46.613539   \n",
      "3           69.297008    24.652878              44.311238     44.644130   \n",
      "4           49.712859     9.652075              28.317406     40.060784   \n",
      "5           40.250200    13.921907              25.124950     26.328293   \n",
      "6           53.432928    15.864336              37.165934     37.568592   \n",
      "7           45.366754    10.755611              29.038349     34.611142   \n",
      "8           43.790190    13.533753              42.690814     30.256437   \n",
      "9           36.686353     5.010884              41.948751     31.675469   \n",
      "10          49.706610    13.040974              31.334500     36.665635   \n",
      "11          31.232387    17.715819              15.500000     13.516568   \n",
      "12          48.915551    19.964556              40.263794     28.950995   \n",
      "13          53.572170    20.460828              33.100000     33.111342   \n",
      "14          57.300227    24.188885              47.000000     33.111342   \n",
      "15          44.318907    12.537992              36.098763     31.780915   \n",
      "16          63.834982    20.362507              54.552434     43.472475   \n",
      "17          31.276012     3.144669              32.562996     28.131342   \n",
      "18          38.697912    13.444749              31.000000     25.253163   \n",
      "19          41.729963    12.254074              30.122586     29.475889   \n",
      "20          43.922840    14.177959              37.832547     29.744881   \n",
      "21          54.919443    21.062332              42.200000     33.857110   \n",
      "22          63.073611    24.413803              54.000000     38.659808   \n",
      "23          45.540790    13.069598              30.298321     32.471192   \n",
      "24          36.125683    22.758753              29.000000     13.366931   \n",
      "25          54.124920    26.650489              35.329747     27.474432   \n",
      "26          26.147921    10.759454              14.000000     15.388468   \n",
      "27          43.580964    16.508884              47.000000     27.072080   \n",
      "28          44.551012    21.931147              26.785916     22.619865   \n",
      "29          66.879211    24.891999              49.278597     41.987212   \n",
      "..                ...          ...                    ...           ...   \n",
      "280         50.086153    13.430044              34.457541     36.656108   \n",
      "281         64.261507    14.497866              43.902504     49.763642   \n",
      "282         53.683380    13.447022              41.584297     40.236358   \n",
      "283         48.995958    13.113820              51.873520     35.882137   \n",
      "284         59.167612    14.562749              43.199158     44.604863   \n",
      "285         67.804694    16.550662              43.256802     51.254033   \n",
      "286         61.734875    17.114312              46.900000     44.620563   \n",
      "287         33.041688    -0.324678              19.071075     33.366366   \n",
      "288         74.565015    15.724320              58.618582     58.840695   \n",
      "289         44.430701    14.174264              32.243495     30.256437   \n",
      "290         36.422485    13.879424              20.242562     22.543061   \n",
      "291         51.079833    14.209935              35.951229     36.869898   \n",
      "292         34.756738     2.631740              29.504381     32.124998   \n",
      "293         48.902904     5.587589              55.500000     43.315316   \n",
      "294         46.236399    10.062770              37.000000     36.173629   \n",
      "295         46.426366     6.620795              48.100000     39.805571   \n",
      "296         39.656902    16.208839              36.674857     23.448063   \n",
      "297         45.575482    18.759135              33.774143     26.816347   \n",
      "298         66.507179    20.897672              31.727471     45.609507   \n",
      "299         82.905351    29.894119              58.250542     53.011232   \n",
      "300         50.676677     6.461501              35.000000     44.215175   \n",
      "301         89.014875    26.075981              69.021259     62.938894   \n",
      "302         54.600316    21.488974              29.360216     33.111342   \n",
      "303         34.382299     2.062683              32.390820     32.319617   \n",
      "304         45.075450    12.306951              44.583177     32.768499   \n",
      "305         47.903565    13.616688              36.000000     34.286877   \n",
      "306         53.936748    20.721496              29.220534     33.215251   \n",
      "307         61.446597    22.694968              46.170347     38.751628   \n",
      "308         45.252792     8.693157              41.583126     36.559635   \n",
      "309         33.841641     5.073991              36.641233     28.767649   \n",
      "\n",
      "     pelvic_radius  degree_spondylolisthesis   class  \n",
      "0        98.672917                 -0.254400  Hernia  \n",
      "1       114.405425                  4.564259  Hernia  \n",
      "2       105.985135                 -3.530317  Hernia  \n",
      "3       101.868495                 11.211523  Hernia  \n",
      "4       108.168725                  7.918501  Hernia  \n",
      "5       130.327871                  2.230652  Hernia  \n",
      "6       120.567523                  5.988551  Hernia  \n",
      "7       117.270068                -10.675871  Hernia  \n",
      "8       125.002893                 13.289018  Hernia  \n",
      "9        84.241415                  0.664437  Hernia  \n",
      "10      108.648265                 -7.825986  Hernia  \n",
      "11      120.055399                  0.499751  Hernia  \n",
      "12      119.321358                  8.028895  Hernia  \n",
      "13      110.966698                  7.044803  Hernia  \n",
      "14      116.806587                  5.766947  Hernia  \n",
      "15      124.115836                  5.415825  Hernia  \n",
      "16      112.309492                 -0.622527  Hernia  \n",
      "17      129.011418                  3.623020  Hernia  \n",
      "18      123.159251                  1.429186  Hernia  \n",
      "19      116.585706                 -1.244402  Hernia  \n",
      "20      134.461016                  6.451648  Hernia  \n",
      "21      125.212716                  2.432561  Hernia  \n",
      "22      106.424329                 15.779697  Hernia  \n",
      "23      117.980830                 -4.987130  Hernia  \n",
      "24      115.577116                 -3.237562  Hernia  \n",
      "25      121.447011                  1.571205  Hernia  \n",
      "26      125.203296                -10.093108  Hernia  \n",
      "27      109.271634                  8.992816  Hernia  \n",
      "28      111.072920                  2.652321  Hernia  \n",
      "29      113.477018                 -2.005892  Hernia  \n",
      "..             ...                       ...     ...  \n",
      "280     119.134622                  3.089484  Normal  \n",
      "281     115.388268                  5.951454  Normal  \n",
      "282     113.913703                  2.737035  Normal  \n",
      "283     126.398188                  0.535472  Normal  \n",
      "284     121.035642                  2.830504  Normal  \n",
      "285     119.685645                  4.867540  Normal  \n",
      "286     120.920200                  3.087726  Normal  \n",
      "287     120.388611                  9.354365  Normal  \n",
      "288     105.417304                  0.599247  Normal  \n",
      "289     131.717613                 -3.604255  Normal  \n",
      "290     126.076861                  0.179717  Normal  \n",
      "291     115.803711                  6.905090  Normal  \n",
      "292     127.139850                 -0.460894  Normal  \n",
      "293     137.108289                 19.854759  Normal  \n",
      "294     128.063620                 -5.100053  Normal  \n",
      "295     130.350096                  2.449382  Normal  \n",
      "296     131.922009                 -4.968980  Normal  \n",
      "297     116.797007                  3.131910  Normal  \n",
      "298     128.902905                  1.517203  Normal  \n",
      "299     110.708958                  6.079338  Normal  \n",
      "300     116.587970                 -0.214711  Normal  \n",
      "301     111.481075                  6.061508  Normal  \n",
      "302     118.343321                 -1.471067  Normal  \n",
      "303     128.300199                 -3.365516  Normal  \n",
      "304     147.894637                 -8.941709  Normal  \n",
      "305     117.449062                 -4.245395  Normal  \n",
      "306     114.365845                 -0.421010  Normal  \n",
      "307     125.670725                 -2.707880  Normal  \n",
      "308     118.545842                  0.214750  Normal  \n",
      "309     123.945244                 -0.199249  Normal  \n",
      "\n",
      "[310 rows x 7 columns]>\n"
     ]
    }
   ],
   "source": [
    "print(data.describe)"
   ]
  },
  {
   "cell_type": "code",
   "execution_count": 39,
   "metadata": {
    "collapsed": false
   },
   "outputs": [
    {
     "name": "stdout",
     "output_type": "stream",
     "text": [
      "pelvic_incidence            float64\n",
      "pelvic_tilt                 float64\n",
      "lumbar_lordosis_angle       float64\n",
      "sacral_slope                float64\n",
      "pelvic_radius               float64\n",
      "degree_spondylolisthesis    float64\n",
      "class                        object\n",
      "dtype: object\n"
     ]
    }
   ],
   "source": [
    "print(data.dtypes)"
   ]
  },
  {
   "cell_type": "markdown",
   "metadata": {},
   "source": [
    "# Lesson 5: Data Pre-processing"
   ]
  },
  {
   "cell_type": "code",
   "execution_count": 41,
   "metadata": {
    "collapsed": false
   },
   "outputs": [
    {
     "data": {
      "text/html": [
       "<div>\n",
       "<table border=\"1\" class=\"dataframe\">\n",
       "  <thead>\n",
       "    <tr style=\"text-align: right;\">\n",
       "      <th></th>\n",
       "      <th>pelvic_incidence</th>\n",
       "      <th>pelvic_tilt</th>\n",
       "      <th>lumbar_lordosis_angle</th>\n",
       "      <th>sacral_slope</th>\n",
       "      <th>pelvic_radius</th>\n",
       "      <th>degree_spondylolisthesis</th>\n",
       "      <th>class</th>\n",
       "    </tr>\n",
       "  </thead>\n",
       "  <tbody>\n",
       "    <tr>\n",
       "      <th>column type</th>\n",
       "      <td>float64</td>\n",
       "      <td>float64</td>\n",
       "      <td>float64</td>\n",
       "      <td>float64</td>\n",
       "      <td>float64</td>\n",
       "      <td>float64</td>\n",
       "      <td>object</td>\n",
       "    </tr>\n",
       "    <tr>\n",
       "      <th>null values (nb)</th>\n",
       "      <td>0</td>\n",
       "      <td>0</td>\n",
       "      <td>0</td>\n",
       "      <td>0</td>\n",
       "      <td>0</td>\n",
       "      <td>0</td>\n",
       "      <td>0</td>\n",
       "    </tr>\n",
       "    <tr>\n",
       "      <th>null values (%)</th>\n",
       "      <td>0</td>\n",
       "      <td>0</td>\n",
       "      <td>0</td>\n",
       "      <td>0</td>\n",
       "      <td>0</td>\n",
       "      <td>0</td>\n",
       "      <td>0</td>\n",
       "    </tr>\n",
       "  </tbody>\n",
       "</table>\n",
       "</div>"
      ],
      "text/plain": [
       "                 pelvic_incidence pelvic_tilt lumbar_lordosis_angle  \\\n",
       "column type               float64     float64               float64   \n",
       "null values (nb)                0           0                     0   \n",
       "null values (%)                 0           0                     0   \n",
       "\n",
       "                 sacral_slope pelvic_radius degree_spondylolisthesis   class  \n",
       "column type           float64       float64                  float64  object  \n",
       "null values (nb)            0             0                        0       0  \n",
       "null values (%)             0             0                        0       0  "
      ]
     },
     "metadata": {},
     "output_type": "display_data"
    }
   ],
   "source": [
    "#Check missing value/null\n",
    "tab_info=pd.DataFrame(data.dtypes).T.rename(index={0:'column type'})\n",
    "tab_info=tab_info.append(pd.DataFrame(data.isnull().sum()).T.rename(index={0:'null values (nb)'}))\n",
    "tab_info=tab_info.append(pd.DataFrame(data.isnull().sum()/data.shape[0]*100).T.rename(index={0:'null values (%)'}))\n",
    "display(tab_info)"
   ]
  },
  {
   "cell_type": "code",
   "execution_count": 42,
   "metadata": {
    "collapsed": false
   },
   "outputs": [
    {
     "data": {
      "text/plain": [
       "0"
      ]
     },
     "execution_count": 42,
     "metadata": {},
     "output_type": "execute_result"
    }
   ],
   "source": [
    "#Check duplicate instances\n",
    "data.duplicated().sum()"
   ]
  },
  {
   "cell_type": "code",
   "execution_count": 43,
   "metadata": {
    "collapsed": false
   },
   "outputs": [
    {
     "data": {
      "text/html": [
       "<div>\n",
       "<table border=\"1\" class=\"dataframe\">\n",
       "  <thead>\n",
       "    <tr style=\"text-align: right;\">\n",
       "      <th></th>\n",
       "      <th>count</th>\n",
       "      <th>mean</th>\n",
       "      <th>std</th>\n",
       "      <th>min</th>\n",
       "      <th>25%</th>\n",
       "      <th>50%</th>\n",
       "      <th>75%</th>\n",
       "      <th>max</th>\n",
       "    </tr>\n",
       "  </thead>\n",
       "  <tbody>\n",
       "    <tr>\n",
       "      <th>pelvic_incidence</th>\n",
       "      <td>310.0</td>\n",
       "      <td>60.496653</td>\n",
       "      <td>17.236520</td>\n",
       "      <td>26.147921</td>\n",
       "      <td>46.430294</td>\n",
       "      <td>58.691038</td>\n",
       "      <td>72.877696</td>\n",
       "      <td>129.834041</td>\n",
       "    </tr>\n",
       "    <tr>\n",
       "      <th>pelvic_tilt</th>\n",
       "      <td>310.0</td>\n",
       "      <td>17.542822</td>\n",
       "      <td>10.008330</td>\n",
       "      <td>-6.554948</td>\n",
       "      <td>10.667069</td>\n",
       "      <td>16.357689</td>\n",
       "      <td>22.120395</td>\n",
       "      <td>49.431864</td>\n",
       "    </tr>\n",
       "    <tr>\n",
       "      <th>lumbar_lordosis_angle</th>\n",
       "      <td>310.0</td>\n",
       "      <td>51.930930</td>\n",
       "      <td>18.554064</td>\n",
       "      <td>14.000000</td>\n",
       "      <td>37.000000</td>\n",
       "      <td>49.562398</td>\n",
       "      <td>63.000000</td>\n",
       "      <td>125.742385</td>\n",
       "    </tr>\n",
       "    <tr>\n",
       "      <th>sacral_slope</th>\n",
       "      <td>310.0</td>\n",
       "      <td>42.953831</td>\n",
       "      <td>13.423102</td>\n",
       "      <td>13.366931</td>\n",
       "      <td>33.347122</td>\n",
       "      <td>42.404912</td>\n",
       "      <td>52.695888</td>\n",
       "      <td>121.429566</td>\n",
       "    </tr>\n",
       "    <tr>\n",
       "      <th>pelvic_radius</th>\n",
       "      <td>310.0</td>\n",
       "      <td>117.920655</td>\n",
       "      <td>13.317377</td>\n",
       "      <td>70.082575</td>\n",
       "      <td>110.709196</td>\n",
       "      <td>118.268178</td>\n",
       "      <td>125.467674</td>\n",
       "      <td>163.071041</td>\n",
       "    </tr>\n",
       "    <tr>\n",
       "      <th>degree_spondylolisthesis</th>\n",
       "      <td>310.0</td>\n",
       "      <td>26.296694</td>\n",
       "      <td>37.559027</td>\n",
       "      <td>-11.058179</td>\n",
       "      <td>1.603727</td>\n",
       "      <td>11.767934</td>\n",
       "      <td>41.287352</td>\n",
       "      <td>418.543082</td>\n",
       "    </tr>\n",
       "  </tbody>\n",
       "</table>\n",
       "</div>"
      ],
      "text/plain": [
       "                          count        mean        std        min         25%  \\\n",
       "pelvic_incidence          310.0   60.496653  17.236520  26.147921   46.430294   \n",
       "pelvic_tilt               310.0   17.542822  10.008330  -6.554948   10.667069   \n",
       "lumbar_lordosis_angle     310.0   51.930930  18.554064  14.000000   37.000000   \n",
       "sacral_slope              310.0   42.953831  13.423102  13.366931   33.347122   \n",
       "pelvic_radius             310.0  117.920655  13.317377  70.082575  110.709196   \n",
       "degree_spondylolisthesis  310.0   26.296694  37.559027 -11.058179    1.603727   \n",
       "\n",
       "                                 50%         75%         max  \n",
       "pelvic_incidence           58.691038   72.877696  129.834041  \n",
       "pelvic_tilt                16.357689   22.120395   49.431864  \n",
       "lumbar_lordosis_angle      49.562398   63.000000  125.742385  \n",
       "sacral_slope               42.404912   52.695888  121.429566  \n",
       "pelvic_radius             118.268178  125.467674  163.071041  \n",
       "degree_spondylolisthesis   11.767934   41.287352  418.543082  "
      ]
     },
     "execution_count": 43,
     "metadata": {},
     "output_type": "execute_result"
    }
   ],
   "source": [
    "data.describe().transpose()"
   ]
  },
  {
   "cell_type": "code",
   "execution_count": 44,
   "metadata": {
    "collapsed": false
   },
   "outputs": [
    {
     "data": {
      "text/plain": [
       "array(['Hernia', 'Spondylolisthesis', 'Normal'], dtype=object)"
      ]
     },
     "execution_count": 44,
     "metadata": {},
     "output_type": "execute_result"
    }
   ],
   "source": [
    "data['class'].unique()"
   ]
  },
  {
   "cell_type": "code",
   "execution_count": 45,
   "metadata": {
    "collapsed": false
   },
   "outputs": [
    {
     "data": {
      "text/plain": [
       "Spondylolisthesis    150\n",
       "Normal               100\n",
       "Hernia                60\n",
       "Name: class, dtype: int64"
      ]
     },
     "execution_count": 45,
     "metadata": {},
     "output_type": "execute_result"
    }
   ],
   "source": [
    "pd.value_counts(data[\"class\"])"
   ]
  },
  {
   "cell_type": "code",
   "execution_count": 46,
   "metadata": {
    "collapsed": false
   },
   "outputs": [
    {
     "name": "stdout",
     "output_type": "stream",
     "text": [
      "                          pelvic_incidence  pelvic_tilt  \\\n",
      "pelvic_incidence                  1.000000     0.629199   \n",
      "pelvic_tilt                       0.629199     1.000000   \n",
      "lumbar_lordosis_angle             0.717282     0.432764   \n",
      "sacral_slope                      0.814960     0.062345   \n",
      "pelvic_radius                    -0.247467     0.032668   \n",
      "degree_spondylolisthesis          0.638743     0.397862   \n",
      "\n",
      "                          lumbar_lordosis_angle  sacral_slope  pelvic_radius  \\\n",
      "pelvic_incidence                       0.717282      0.814960      -0.247467   \n",
      "pelvic_tilt                            0.432764      0.062345       0.032668   \n",
      "lumbar_lordosis_angle                  1.000000      0.598387      -0.080344   \n",
      "sacral_slope                           0.598387      1.000000      -0.342128   \n",
      "pelvic_radius                         -0.080344     -0.342128       1.000000   \n",
      "degree_spondylolisthesis               0.533667      0.523557      -0.026065   \n",
      "\n",
      "                          degree_spondylolisthesis  \n",
      "pelvic_incidence                          0.638743  \n",
      "pelvic_tilt                               0.397862  \n",
      "lumbar_lordosis_angle                     0.533667  \n",
      "sacral_slope                              0.523557  \n",
      "pelvic_radius                            -0.026065  \n",
      "degree_spondylolisthesis                  1.000000  \n"
     ]
    }
   ],
   "source": [
    "#Correlation Function\n",
    "'''method : {‘pearson’, ‘kendall’, ‘spearman’}\n",
    "pearson : standard correlation coefficient\n",
    "kendall : Kendall Tau correlation coefficient\n",
    "spearman : Spearman rank correlation\n",
    "'''\n",
    "correlation = data.corr(method='pearson')\n",
    "print(correlation)"
   ]
  },
  {
   "cell_type": "markdown",
   "metadata": {},
   "source": [
    "# Lesson 6: Understand Data with Visualization"
   ]
  },
  {
   "cell_type": "code",
   "execution_count": 47,
   "metadata": {
    "collapsed": false
   },
   "outputs": [
    {
     "data": {
      "image/png": "[encoded data removed]",
      "text/plain": [
       "<matplotlib.figure.Figure at 0x2b77049c470>"
      ]
     },
     "metadata": {},
     "output_type": "display_data"
    }
   ],
   "source": [
    "#Lesson 5: Understand Data with Visualization\n",
    "#Example plot : https://matplotlib.org/tutorials/introductory/sample_plots.html\n",
    "sns.set(font_scale=1.5)\n",
    "sns.countplot(x=\"class\", data=data)\n",
    "data.loc[:,'class'].value_counts()\n",
    "plt.title('Class Count')\n",
    "plt.savefig(\"Figure 1_Bar Graph.png\") #save figure"
   ]
  },
  {
   "cell_type": "code",
   "execution_count": 48,
   "metadata": {
    "collapsed": false
   },
   "outputs": [
    {
     "data": {
      "image/png": "[encoded data removed]",
      "text/plain": [
       "<matplotlib.figure.Figure at 0x2b7705d5908>"
      ]
     },
     "metadata": {},
     "output_type": "display_data"
    }
   ],
   "source": [
    "plt.figure(figsize=(13,6))\n",
    "sns.heatmap(data.corr(method='pearson'),annot=True)\n",
    "plt.title('Correlation between different attributes')\n",
    "plt.savefig(\"Figure 2_Correlation Attribute.png\") #save figure"
   ]
  },
  {
   "cell_type": "markdown",
   "metadata": {},
   "source": [
    "# Lesson 7:Prepare For Modeling Algorithm for Classification"
   ]
  },
  {
   "cell_type": "code",
   "execution_count": 49,
   "metadata": {
    "collapsed": false
   },
   "outputs": [
    {
     "name": "stdout",
     "output_type": "stream",
     "text": [
      "Accuracy of KNN with (K=3) is:  0.91935483871\n"
     ]
    }
   ],
   "source": [
    "#Lesson 6: Prepare For Modeling Algorithm\n",
    "# KNN\n",
    "from sklearn.neighbors import KNeighborsClassifier\n",
    "knn = KNeighborsClassifier(n_neighbors = 3)\n",
    "x,y = data.loc[:,data.columns != 'class'], data.loc[:,'class']\n",
    "knn.fit(x,y)\n",
    "knnprediction = knn.predict(x)\n",
    "print('Accuracy of KNN with (K=3) is: ',knn.score(x,y))"
   ]
  },
  {
   "cell_type": "code",
   "execution_count": 85,
   "metadata": {
    "collapsed": false
   },
   "outputs": [
    {
     "name": "stdout",
     "output_type": "stream",
     "text": [
      "Accuracy of KNN with (K=3) for Training is:  0.898617511521\n",
      "Accuracy of KNN with (K=3) for Testing is:  0.838709677419\n"
     ]
    }
   ],
   "source": [
    "# train test split\n",
    "from sklearn.model_selection import train_test_split\n",
    "x_train,x_test,y_train,y_test = train_test_split(x,y,test_size = 0.3,random_state = 1)\n",
    "knn = KNeighborsClassifier(n_neighbors = 3)\n",
    "x,y = data.loc[:,data.columns != 'class'], data.loc[:,'class']\n",
    "knn.fit(x_train,y_train)\n",
    "knnprediction = knn.predict(x_test)\n",
    "print('Accuracy of KNN with (K=3) for Training is: ',knn.score(x_train,y_train))\n",
    "print('Accuracy of KNN with (K=3) for Testing is: ',knn.score(x_test,y_test))"
   ]
  },
  {
   "cell_type": "markdown",
   "metadata": {},
   "source": [
    "# Lesson 8: Algorithm Evaluation With Resampling Methods"
   ]
  },
  {
   "cell_type": "code",
   "execution_count": 71,
   "metadata": {
    "collapsed": false
   },
   "outputs": [
    {
     "name": "stdout",
     "output_type": "stream",
     "text": [
      "KNN: \n",
      "[ 0.77419355  0.67741935  0.74193548  0.74193548  0.83870968  0.87096774\n",
      "  0.83870968  0.87096774  0.93548387  0.87096774]\n",
      "Accuracy of KNN is:  81.6129032258\n"
     ]
    }
   ],
   "source": [
    "#Lesson 7: Algorithm Evaluation With Resampling Methods\n",
    "# Evaluate using Cross-Validation\n",
    "from sklearn.model_selection import cross_val_score\n",
    "print(\"KNN: \")\n",
    "print(cross_val_score(knn, x, y, scoring='accuracy', cv = 10))\n",
    "accuracy = cross_val_score(knn, x, y, scoring='accuracy', cv = 10).mean() * 100\n",
    "print(\"Accuracy of KNN is: \" , accuracy)"
   ]
  },
  {
   "cell_type": "markdown",
   "metadata": {},
   "source": [
    "# Lesson 9 : Algorithm Evaluation Metrics and Classification Report"
   ]
  },
  {
   "cell_type": "code",
   "execution_count": 53,
   "metadata": {
    "collapsed": false
   },
   "outputs": [
    {
     "name": "stdout",
     "output_type": "stream",
     "text": [
      "KNN:Confusion Matrix\n",
      "[[11  6  0]\n",
      " [ 6 21  0]\n",
      " [ 2  1 46]]\n",
      "Confusion matrix plot of KNN\n"
     ]
    },
    {
     "data": {
      "image/png": "[encoded data removed]",
      "text/plain": [
       "<matplotlib.figure.Figure at 0x2b771c30828>"
      ]
     },
     "metadata": {},
     "output_type": "display_data"
    },
    {
     "name": "stdout",
     "output_type": "stream",
     "text": [
      "Classification Report\n",
      "                   precision    recall  f1-score   support\n",
      "\n",
      "           Hernia       0.58      0.65      0.61        17\n",
      "           Normal       0.75      0.78      0.76        27\n",
      "Spondylolisthesis       1.00      0.94      0.97        49\n",
      "\n",
      "      avg / total       0.85      0.84      0.84        93\n",
      "\n"
     ]
    }
   ],
   "source": [
    "from sklearn.metrics import classification_report # Build a text report showing the main classification metrics\n",
    "from sklearn.metrics import confusion_matrix\n",
    "#KNN\n",
    "# computing and plotting confusion matrix\n",
    "c_m = confusion_matrix(y_test, knnprediction)\n",
    "print('KNN:Confusion Matrix')\n",
    "print(c_m)\n",
    "ax=plt.matshow(c_m,cmap=plt.cm.Reds)\n",
    "print('Confusion matrix plot of KNN')\n",
    "plt.colorbar(ax)\n",
    "plt.xlabel('Predicted')\n",
    "plt.ylabel('True')\n",
    "plt.show()\n",
    "# classification report\n",
    "print('Classification Report')\n",
    "print(classification_report(y_test, knnprediction))"
   ]
  },
  {
   "cell_type": "code",
   "execution_count": 72,
   "metadata": {
    "collapsed": true
   },
   "outputs": [],
   "source": [
    "#Scatter Plot"
   ]
  },
  {
   "cell_type": "code",
   "execution_count": 56,
   "metadata": {
    "collapsed": true
   },
   "outputs": [],
   "source": [
    "import seaborn as sns\n",
    "import matplotlib.pyplot as plt\n",
    "%matplotlib inline\n",
    "plt.rcParams['figure.figsize'] = (8, 6)\n",
    "plt.rcParams['font.size'] = 14"
   ]
  },
  {
   "cell_type": "code",
   "execution_count": 57,
   "metadata": {
    "collapsed": true
   },
   "outputs": [],
   "source": [
    "import pandas as pd\n",
    "import numpy as np"
   ]
  },
  {
   "cell_type": "code",
   "execution_count": 59,
   "metadata": {
    "collapsed": false
   },
   "outputs": [
    {
     "data": {
      "text/plain": [
       "<matplotlib.axes._subplots.AxesSubplot at 0x2b7709a8048>"
      ]
     },
     "execution_count": 59,
     "metadata": {},
     "output_type": "execute_result"
    },
    {
     "data": {
      "image/png": "[encoded data removed]",
      "text/plain": [
       "<matplotlib.figure.Figure at 0x2b76c606710>"
      ]
     },
     "metadata": {},
     "output_type": "display_data"
    }
   ],
   "source": [
    "# Pandas scatter plot\n",
    "data.plot(kind='scatter', x='pelvic_incidence', y='sacral_slope', alpha=0.2)"
   ]
  },
  {
   "cell_type": "code",
   "execution_count": 60,
   "metadata": {
    "collapsed": false
   },
   "outputs": [
    {
     "data": {
      "text/plain": [
       "<seaborn.axisgrid.FacetGrid at 0x2b770605630>"
      ]
     },
     "execution_count": 60,
     "metadata": {},
     "output_type": "execute_result"
    },
    {
     "data": {
      "image/png": "[encoded data removed]",
      "text/plain": [
       "<matplotlib.figure.Figure at 0x2b770605518>"
      ]
     },
     "metadata": {},
     "output_type": "display_data"
    }
   ],
   "source": [
    "# Seaborn scatter plot with regression line\n",
    "sns.lmplot(x='pelvic_incidence', y='sacral_slope', data=data, aspect=1.5, scatter_kws={'alpha':0.2})"
   ]
  },
  {
   "cell_type": "code",
   "execution_count": 62,
   "metadata": {
    "collapsed": false
   },
   "outputs": [
    {
     "data": {
      "text/plain": [
       "<matplotlib.axes._subplots.AxesSubplot at 0x2b77099f898>"
      ]
     },
     "execution_count": 62,
     "metadata": {},
     "output_type": "execute_result"
    },
    {
     "data": {
      "image/png": "[encoded data removed]",
      "text/plain": [
       "<matplotlib.figure.Figure at 0x2b7705557b8>"
      ]
     },
     "metadata": {},
     "output_type": "display_data"
    }
   ],
   "source": [
    "data.sacral_slope.plot()"
   ]
  },
  {
   "cell_type": "code",
   "execution_count": 64,
   "metadata": {
    "collapsed": false
   },
   "outputs": [
    {
     "data": {
      "text/plain": [
       "<matplotlib.axes._subplots.AxesSubplot at 0x2b774cda438>"
      ]
     },
     "execution_count": 64,
     "metadata": {},
     "output_type": "execute_result"
    },
    {
     "data": {
      "image/png": "[encoded data removed]",
      "text/plain": [
       "<matplotlib.figure.Figure at 0x2b77457d390>"
      ]
     },
     "metadata": {},
     "output_type": "display_data"
    }
   ],
   "source": [
    "data.boxplot(column='sacral_slope', by=['pelvic_incidence'], fontsize=12, figsize=(10,10))"
   ]
  },
  {
   "cell_type": "code",
   "execution_count": 95,
   "metadata": {
    "collapsed": false
   },
   "outputs": [
    {
     "data": {
      "text/plain": [
       "LinearRegression(copy_X=True, fit_intercept=True, n_jobs=1, normalize=False)"
      ]
     },
     "execution_count": 95,
     "metadata": {},
     "output_type": "execute_result"
    }
   ],
   "source": [
    "from sklearn import linear_model\n",
    "\n",
    "data_X = data.pelvic_incidence[:, np.newaxis]\n",
    "\n",
    "data_X_train = data_X[:-80] #training set\n",
    "data_X_test = data_X[-20:]  #testing set\n",
    "\n",
    "data_y_train = data.sacral_slope[:-80]  #training set\n",
    "data_y_test = data.sacral_slope[-20:]   #testing set\n",
    "\n",
    "regr = linear_model.LinearRegression()\n",
    "\n",
    "regr.fit(data_X_train, data_y_train)"
   ]
  },
  {
   "cell_type": "code",
   "execution_count": 96,
   "metadata": {
    "collapsed": false
   },
   "outputs": [
    {
     "name": "stdout",
     "output_type": "stream",
     "text": [
      "Coefficients: \n",
      " [ 0.66211497]\n",
      "Mean squared error: 25.20\n",
      "Variance score: 0.72\n"
     ]
    },
    {
     "data": {
      "image/png": "[encoded data removed]",
      "text/plain": [
       "<matplotlib.figure.Figure at 0x2b7785d3978>"
      ]
     },
     "metadata": {},
     "output_type": "display_data"
    }
   ],
   "source": [
    "print('Coefficients: \\n', regr.coef_)\n",
    "\n",
    "print ('Mean squared error: %.2f' % np.mean((regr.predict(data_X_test) - data_y_test) ** 2))\n",
    "\n",
    "print('Variance score: %.2f' % regr.score(data_X_test, data_y_test))\n",
    "\n",
    "\n",
    "plt.scatter(data_X_test, data_y_test, color='black')\n",
    "plt.plot(data_X_test, regr.predict(data_X_test), color='blue', linewidth=3)\n",
    "plt.show()"
   ]
  },
  {
   "cell_type": "code",
   "execution_count": 97,
   "metadata": {
    "collapsed": true
   },
   "outputs": [],
   "source": [
    "from sklearn import tree"
   ]
  },
  {
   "cell_type": "code",
   "execution_count": 102,
   "metadata": {
    "collapsed": false
   },
   "outputs": [
    {
     "ename": "AttributeError",
     "evalue": "'DataFrame' object has no attribute 'data'",
     "output_type": "error",
     "traceback": [
      "\u001b[0;31m---------------------------------------------------------------------------\u001b[0m",
      "\u001b[0;31mAttributeError\u001b[0m                            Traceback (most recent call last)",
      "\u001b[0;32m<ipython-input-102-42500bbde965>\u001b[0m in \u001b[0;36m<module>\u001b[0;34m()\u001b[0m\n\u001b[0;32m----> 1\u001b[0;31m \u001b[0mdata\u001b[0m\u001b[1;33m.\u001b[0m\u001b[0mdata\u001b[0m\u001b[1;33m\u001b[0m\u001b[0m\n\u001b[0m",
      "\u001b[0;32mC:\\Users\\mkrijal\\Anaconda3\\lib\\site-packages\\pandas\\core\\generic.py\u001b[0m in \u001b[0;36m__getattr__\u001b[0;34m(self, name)\u001b[0m\n\u001b[1;32m   2742\u001b[0m             \u001b[1;32mif\u001b[0m \u001b[0mname\u001b[0m \u001b[1;32min\u001b[0m \u001b[0mself\u001b[0m\u001b[1;33m.\u001b[0m\u001b[0m_info_axis\u001b[0m\u001b[1;33m:\u001b[0m\u001b[1;33m\u001b[0m\u001b[0m\n\u001b[1;32m   2743\u001b[0m                 \u001b[1;32mreturn\u001b[0m \u001b[0mself\u001b[0m\u001b[1;33m[\u001b[0m\u001b[0mname\u001b[0m\u001b[1;33m]\u001b[0m\u001b[1;33m\u001b[0m\u001b[0m\n\u001b[0;32m-> 2744\u001b[0;31m             \u001b[1;32mreturn\u001b[0m \u001b[0mobject\u001b[0m\u001b[1;33m.\u001b[0m\u001b[0m__getattribute__\u001b[0m\u001b[1;33m(\u001b[0m\u001b[0mself\u001b[0m\u001b[1;33m,\u001b[0m \u001b[0mname\u001b[0m\u001b[1;33m)\u001b[0m\u001b[1;33m\u001b[0m\u001b[0m\n\u001b[0m\u001b[1;32m   2745\u001b[0m \u001b[1;33m\u001b[0m\u001b[0m\n\u001b[1;32m   2746\u001b[0m     \u001b[1;32mdef\u001b[0m \u001b[0m__setattr__\u001b[0m\u001b[1;33m(\u001b[0m\u001b[0mself\u001b[0m\u001b[1;33m,\u001b[0m \u001b[0mname\u001b[0m\u001b[1;33m,\u001b[0m \u001b[0mvalue\u001b[0m\u001b[1;33m)\u001b[0m\u001b[1;33m:\u001b[0m\u001b[1;33m\u001b[0m\u001b[0m\n",
      "\u001b[0;31mAttributeError\u001b[0m: 'DataFrame' object has no attribute 'data'"
     ]
    }
   ],
   "source": [
    "data.data"
   ]
  },
  {
   "cell_type": "code",
   "execution_count": 101,
   "metadata": {
    "collapsed": false
   },
   "outputs": [
    {
     "ename": "AttributeError",
     "evalue": "'DataFrame' object has no attribute 'data'",
     "output_type": "error",
     "traceback": [
      "\u001b[0;31m---------------------------------------------------------------------------\u001b[0m",
      "\u001b[0;31mAttributeError\u001b[0m                            Traceback (most recent call last)",
      "\u001b[0;32m<ipython-input-101-4a5615ffb217>\u001b[0m in \u001b[0;36m<module>\u001b[0;34m()\u001b[0m\n\u001b[1;32m      1\u001b[0m \u001b[0mclf\u001b[0m \u001b[1;33m=\u001b[0m \u001b[0mtree\u001b[0m\u001b[1;33m.\u001b[0m\u001b[0mDecisionTreeClassifier\u001b[0m\u001b[1;33m(\u001b[0m\u001b[1;33m)\u001b[0m\u001b[1;33m\u001b[0m\u001b[0m\n\u001b[0;32m----> 2\u001b[0;31m \u001b[0mclf\u001b[0m \u001b[1;33m=\u001b[0m \u001b[0mclf\u001b[0m\u001b[1;33m.\u001b[0m\u001b[0mfit\u001b[0m\u001b[1;33m(\u001b[0m\u001b[0mdf\u001b[0m\u001b[1;33m.\u001b[0m\u001b[0mdata\u001b[0m\u001b[1;33m,\u001b[0m \u001b[0mdf\u001b[0m\u001b[1;33m.\u001b[0m\u001b[0mtarget\u001b[0m\u001b[1;33m)\u001b[0m\u001b[1;33m\u001b[0m\u001b[0m\n\u001b[0m",
      "\u001b[0;32mC:\\Users\\mkrijal\\Anaconda3\\lib\\site-packages\\pandas\\core\\generic.py\u001b[0m in \u001b[0;36m__getattr__\u001b[0;34m(self, name)\u001b[0m\n\u001b[1;32m   2742\u001b[0m             \u001b[1;32mif\u001b[0m \u001b[0mname\u001b[0m \u001b[1;32min\u001b[0m \u001b[0mself\u001b[0m\u001b[1;33m.\u001b[0m\u001b[0m_info_axis\u001b[0m\u001b[1;33m:\u001b[0m\u001b[1;33m\u001b[0m\u001b[0m\n\u001b[1;32m   2743\u001b[0m                 \u001b[1;32mreturn\u001b[0m \u001b[0mself\u001b[0m\u001b[1;33m[\u001b[0m\u001b[0mname\u001b[0m\u001b[1;33m]\u001b[0m\u001b[1;33m\u001b[0m\u001b[0m\n\u001b[0;32m-> 2744\u001b[0;31m             \u001b[1;32mreturn\u001b[0m \u001b[0mobject\u001b[0m\u001b[1;33m.\u001b[0m\u001b[0m__getattribute__\u001b[0m\u001b[1;33m(\u001b[0m\u001b[0mself\u001b[0m\u001b[1;33m,\u001b[0m \u001b[0mname\u001b[0m\u001b[1;33m)\u001b[0m\u001b[1;33m\u001b[0m\u001b[0m\n\u001b[0m\u001b[1;32m   2745\u001b[0m \u001b[1;33m\u001b[0m\u001b[0m\n\u001b[1;32m   2746\u001b[0m     \u001b[1;32mdef\u001b[0m \u001b[0m__setattr__\u001b[0m\u001b[1;33m(\u001b[0m\u001b[0mself\u001b[0m\u001b[1;33m,\u001b[0m \u001b[0mname\u001b[0m\u001b[1;33m,\u001b[0m \u001b[0mvalue\u001b[0m\u001b[1;33m)\u001b[0m\u001b[1;33m:\u001b[0m\u001b[1;33m\u001b[0m\u001b[0m\n",
      "\u001b[0;31mAttributeError\u001b[0m: 'DataFrame' object has no attribute 'data'"
     ]
    }
   ],
   "source": [
    "clf = tree.DecisionTreeClassifier()\n",
    "clf = clf.fit(df.data, df.target)"
   ]
  },
  {
   "cell_type": "code",
   "execution_count": null,
   "metadata": {
    "collapsed": true
   },
   "outputs": [],
   "source": []
  }
 ],
 "metadata": {
  "kernelspec": {
   "display_name": "Python 3",
   "language": "python",
   "name": "python3"
  },
  "language_info": {
   "codemirror_mode": {
    "name": "ipython",
    "version": 3
   },
   "file_extension": ".py",
   "mimetype": "text/x-python",
   "name": "python",
   "nbconvert_exporter": "python",
   "pygments_lexer": "ipython3",
   "version": "3.6.0"
  }
 },
 "nbformat": 4,
 "nbformat_minor": 2
}
